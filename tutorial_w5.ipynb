{
 "cells": [
  {
   "cell_type": "markdown",
   "id": "831a382a",
   "metadata": {
    "slideshow": {
     "slide_type": "slide"
    }
   },
   "source": [
    "# Processing Images with OpenCV\n",
    "\n",
    "Sooner or later, when working with images, you will find you need to alter them: be it identifying ROI, blending 2 images, apply basic transformation, and even draw shapes on image. Our discussion and code samples will cover the following topics:\n",
    "\n",
    "- cropping images\n",
    "- image blending\n",
    "- basic geometric transformations: translation, rotation, custom affine transformation.\n",
    "- image annotations (e.g. circle, rectangle, straight line, ellipse, text)\n",
    "- bitwise operations"
   ]
  },
  {
   "cell_type": "markdown",
   "id": "fcdf8270",
   "metadata": {
    "slideshow": {
     "slide_type": "slide"
    }
   },
   "source": [
    "## Setup"
   ]
  },
  {
   "cell_type": "code",
   "execution_count": 30,
   "id": "11c11f5f",
   "metadata": {
    "slideshow": {
     "slide_type": "fragment"
    }
   },
   "outputs": [
    {
     "data": {
      "text/plain": [
       "True"
      ]
     },
     "execution_count": 30,
     "metadata": {},
     "output_type": "execute_result"
    }
   ],
   "source": [
    "import sys\n",
    "# Python 3.7 is required\n",
    "assert sys.version_info >= (3,7)\n",
    "\n",
    "import cv2 as cv\n",
    "import numpy as np\n",
    "\n",
    "# Make sure that optimization is enabled\n",
    "if not cv.useOptimized():\n",
    "    cv.setUseOptimized(True)\n",
    "\n",
    "cv.useOptimized()"
   ]
  },
  {
   "cell_type": "markdown",
   "id": "ff46968d",
   "metadata": {
    "slideshow": {
     "slide_type": "slide"
    }
   },
   "source": [
    "### Define the regions of interests (ROI)\n",
    "Sometimes, we will have to play with a certain region of images. ROI is obtained by using Numpy indexing / slicing."
   ]
  },
  {
   "cell_type": "code",
   "execution_count": 31,
   "id": "4350ead7",
   "metadata": {
    "slideshow": {
     "slide_type": "fragment"
    }
   },
   "outputs": [],
   "source": [
    "img = cv.imread('lena.jfif')\n",
    "my_roi = img[:50, :50]\n",
    "img[150:200, 150:200] = my_roi\n",
    "\n",
    "cv.imshow('ROI_copy', img)\n",
    "cv.waitKey(0)\n",
    "cv.destroyAllWindows()"
   ]
  },
  {
   "cell_type": "code",
   "execution_count": 32,
   "id": "5bb72c00",
   "metadata": {
    "slideshow": {
     "slide_type": "fragment"
    }
   },
   "outputs": [
    {
     "data": {
      "text/plain": [
       "(225, 225, 3)"
      ]
     },
     "execution_count": 32,
     "metadata": {},
     "output_type": "execute_result"
    }
   ],
   "source": [
    "img.shape"
   ]
  },
  {
   "cell_type": "code",
   "execution_count": 33,
   "id": "24c9113c",
   "metadata": {
    "slideshow": {
     "slide_type": "fragment"
    }
   },
   "outputs": [
    {
     "data": {
      "text/plain": [
       "dtype('uint8')"
      ]
     },
     "execution_count": 33,
     "metadata": {},
     "output_type": "execute_result"
    }
   ],
   "source": [
    "img.dtype"
   ]
  },
  {
   "cell_type": "markdown",
   "id": "7e0cf9ce",
   "metadata": {
    "slideshow": {
     "slide_type": "slide"
    }
   },
   "source": [
    "## Cropping an image\n",
    "Why crop an image? \n",
    "1. Remove all unwanted objects or areas from an image\n",
    "2. Change the aspect rato of an image\n",
    "3. Improve the overall composition of the image. Visit this [link](https://expertphotography.com/improve-your-composition-the-rule-of-thirds/) on how separating image into grids and putting the subject of interest on the intersection point could create a more compositional pleasing photo. This is known as of rule of thirds.\n",
    "\n",
    "The operations are literally the same as extracting ROI."
   ]
  },
  {
   "cell_type": "code",
   "execution_count": 26,
   "id": "f29f6b10",
   "metadata": {
    "slideshow": {
     "slide_type": "fragment"
    }
   },
   "outputs": [
    {
     "name": "stdout",
     "output_type": "stream",
     "text": [
      "(168, 300, 3)\n"
     ]
    }
   ],
   "source": [
    "img = cv.imread('dog.jfif')\n",
    "print(img.shape)\n",
    "\n",
    "cv.imshow(\"original\", img)\n",
    "cropped_img = img[25:85, 100:200]\n",
    "cv.imshow('cropped_img', cropped_img)\n",
    "\n",
    "cv.waitKey(0)\n",
    "cv.destroyAllWindows()"
   ]
  },
  {
   "cell_type": "code",
   "execution_count": 27,
   "id": "ab068a19",
   "metadata": {
    "slideshow": {
     "slide_type": "fragment"
    }
   },
   "outputs": [
    {
     "data": {
      "text/plain": [
       "(60, 100, 3)"
      ]
     },
     "execution_count": 27,
     "metadata": {},
     "output_type": "execute_result"
    }
   ],
   "source": [
    "cropped_img.shape"
   ]
  },
  {
   "cell_type": "markdown",
   "id": "b5ed9d2a",
   "metadata": {
    "slideshow": {
     "slide_type": "slide"
    }
   },
   "source": [
    "<a id=\"Section1\"></a>\n",
    "    \n",
    "### Divide an image into smaller patches using cropping\n",
    "One practical application of cropping in OpenCV is to divide an image into smaller patches. The following example shows how to split image into a $2 \\times 3$ grid."
   ]
  },
  {
   "cell_type": "code",
   "execution_count": null,
   "id": "0926e516",
   "metadata": {
    "slideshow": {
     "slide_type": "fragment"
    }
   },
   "outputs": [],
   "source": [
    "img = cv.imread('dog.jfif')\n",
    "img_copy = img.copy()\n",
    "\n",
    "height, width = img.shape[:2]\n",
    "num_horizontal_patches = 2\n",
    "num_vertical_patches = 3\n",
    "\n",
    "# M and N are basically number of pixels per patch\n",
    "M, N = int(height/num_horizontal_patches), int(width/num_vertical_patches)\n",
    "\n",
    "x1, y1 = 0, 0\n",
    "\n",
    "for y in range(0, height, M):\n",
    "    for x in range(0, width, N):\n",
    "#         if (height - y) < M or (width - x) < N:\n",
    "#             break\n",
    "            \n",
    "        y1 = y + M    # lower right coordinate that will be used to construct rectangle\n",
    "        x1 = x + N\n",
    "        \n",
    "        # Check whether patch lower right coordinate exceeds image height and width\n",
    "        if x1 >= width and y1 >= height:\n",
    "            x1 = width - 1\n",
    "            y1 = height - 1\n",
    "            tile = img[y:height, x:width]\n",
    "            cv.rectangle(img_copy, (x, y), (x1, y1), (0, 255, 0), 1)\n",
    "            cv.imshow('tile', tile)\n",
    "        # When patch lower right y-coordinate exceeds patch height\n",
    "        elif y1 >= height:\n",
    "            y1 = height - 1\n",
    "            cv.rectangle(img_copy, (x, y), (x1, y1), (0, 255, 0), 1)\n",
    "            \n",
    "        # When patch lower right x-coordinate exceeds patch width\n",
    "        elif x1 >= width:\n",
    "            x1 = width - 1\n",
    "            cv.rectangle(img_copy, (x, y), (x1, y1), (0, 255, 0), 1)\n",
    "        \n",
    "        else:\n",
    "            cv.rectangle(img_copy, (x, y), (x1, y1), (0, 255, 0), 1)\n",
    "\n",
    "cv.imshow('patched image', img_copy)\n",
    "cv.waitKey(0)\n",
    "cv.destroyAllWindows()"
   ]
  },
  {
   "cell_type": "markdown",
   "id": "3c7fdace",
   "metadata": {
    "slideshow": {
     "slide_type": "slide"
    }
   },
   "source": [
    "## Swapping regions (exercise)\n",
    "1. Divide the image into 4 equal regions. Swap their positions as shown below:  ![dog_swap](image_embed/crop_swap.PNG \"dog\")\n",
    "2. Cover the face of lena with white mask as shown as the following:  ![lena_mask](image_embed/lena_mask.PNG \"lena mask\")"
   ]
  },
  {
   "cell_type": "markdown",
   "id": "286f4c03",
   "metadata": {
    "slideshow": {
     "slide_type": "slide"
    }
   },
   "source": [
    "## Splitting and merging Image channels\n",
    "The B, G and R channels can be split into their individual planes when needed. Then the individual channels can be merged back together to form BGR image again. The splitting and merging operations can be attained by the following functions respectively:\n",
    "* `cv.split(m)`, where m is a multi-channel array.\n",
    "* `cv.merge(mv)`, where mv is a vector of matrices to be merged; all the matrices in mv must have the same size and the same depth (precision of each pixel)."
   ]
  },
  {
   "cell_type": "code",
   "execution_count": 14,
   "id": "2e6aea08",
   "metadata": {
    "slideshow": {
     "slide_type": "fragment"
    }
   },
   "outputs": [],
   "source": [
    "b,g,r = cv.split(img)\n",
    "img = cv.merge((b,g,r))"
   ]
  },
  {
   "cell_type": "code",
   "execution_count": 15,
   "id": "64525756",
   "metadata": {
    "slideshow": {
     "slide_type": "fragment"
    }
   },
   "outputs": [],
   "source": [
    "# Alternative to split channel: index slicing\n",
    "# Access the green channel matrix\n",
    "g = img[:, :, 1]"
   ]
  },
  {
   "cell_type": "markdown",
   "id": "fd005f0a",
   "metadata": {
    "slideshow": {
     "slide_type": "fragment"
    }
   },
   "source": [
    "### Exercise\n",
    "2. Display the blue, green and red channel of the **lena** image simultaneously. Comment on the images displayed."
   ]
  },
  {
   "cell_type": "markdown",
   "id": "4a2d7acb",
   "metadata": {
    "slideshow": {
     "slide_type": "slide"
    }
   },
   "source": [
    "## Image blending\n",
    "\n",
    "Have you ever wonder what you would end up with if you add two images up? The resulting image will give you an impression of <mark>transparency</mark>. \n",
    "\n",
    "This is image addition, but different weights are given to images so that it gives a feeling of blending or transparency. </br>\n",
    "$ g(x) = (1 - \\alpha)f_{0}(x) + (\\alpha)f_{1}(x) $  \n",
    "By varying $ \\alpha $ from 0 to 1, we can perform cool transition from one image to another. The associated function is \n",
    "```python\n",
    "cv.addWeighted(src1, alpha, src2, beta, gamma)\n",
    "```\n",
    "1. First argument, src1 is the first input array.\n",
    "2. alpha is the weight of the first array elements.\n",
    "3. src2 is the second input array of the same size and channel number as src1.\n",
    "4. beta is the weight of the second array elements. \n",
    "5. gamma is the scalar added to each sum.\n",
    "\n",
    "There is a catch here: **Make sure both images are of the same dimension**."
   ]
  },
  {
   "cell_type": "code",
   "execution_count": 16,
   "id": "91e035fe",
   "metadata": {
    "slideshow": {
     "slide_type": "fragment"
    }
   },
   "outputs": [],
   "source": [
    "img1 = cv.imread('lena.jpg')\n",
    "img2 = cv.imread('coins.jfif')\n",
    "\n",
    "# Resize img2\n",
    "new_shape = img1.shape[:2]\n",
    "img2 = cv.resize(img2, new_shape)\n",
    "\n",
    "dst = cv.addWeighted(img1, 0.75, img2, 0.25, 0)\n",
    "\n",
    "cv.imshow('image1', img1)\n",
    "cv.imshow('reshape_image2', img2)\n",
    "cv.imshow('blend_image', dst)\n",
    "cv.waitKey(0)\n",
    "cv.destroyAllWindows()"
   ]
  },
  {
   "cell_type": "markdown",
   "id": "9224cff1",
   "metadata": {
    "slideshow": {
     "slide_type": "slide"
    }
   },
   "source": [
    "## Affine transformation operations\n",
    "\n",
    "Rotation and translation of images are among the most fundamental operations in image editing. Both fall under the broader class of *Affine transformation*. Affine transformation is a linear mapping method that preserves points, straight lines, and planes. Sets of parallel lines remain parallel after an affine transformation. Mathematically speaking, a transformation that can be expressed in the form of matrix multiplication (linear combination) followed by vector addition (translation).\n",
    "\n",
    "The affine transformation is typically used to correct for geometric distortions or deformations caused by non-ideal camera angles.\n",
    "\n",
    "### Rotation \n",
    "Two key functions:\n",
    "- `cv.getRotationMatrix2D(center, angle, scale)`\n",
    "    1. First argument is the center of rotation (coordinates, which is expressed as tuple).\n",
    "    2. Second argument is angle of rotation in degrees.\n",
    "    3. scale: scale factor which scales the image up or down.\n",
    "- `cv.warpAffine(src, M, dsize, ...)`\n",
    "    1. First argument is the source image.\n",
    "    2. M is the transformation matrix (output of the `cv.getRotationMatrix2D()` function. \n",
    "    3. dsize is size of output image. \n",
    "... denotes optional arguments. For the complete list of arguments, visit the online [OpenCV documentation](https://docs.opencv.org/4.x/da/d54/group__imgproc__transform.html#ga0203d9ee5fcd28d40dbc4a1ea4451983)\n",
    "\n",
    "### Translation\n",
    "- Create transformation matrix, which is a 2x3 array.\n",
    "- Call `cv.warpAffine()` function."
   ]
  },
  {
   "cell_type": "markdown",
   "id": "bac1615c",
   "metadata": {
    "slideshow": {
     "slide_type": "slide"
    }
   },
   "source": [
    "#### Rotation"
   ]
  },
  {
   "cell_type": "code",
   "execution_count": 17,
   "id": "a288cb53",
   "metadata": {
    "slideshow": {
     "slide_type": "fragment"
    }
   },
   "outputs": [],
   "source": [
    "img = cv.imread('lena.jfif')\n",
    "rows, cols = img.shape[:2]\n",
    "M = cv.getRotationMatrix2D(((cols-1)/2.0, (rows-1)/2.0), 90, 1)\n",
    "dst = cv.warpAffine(img, M, (cols, rows))\n",
    "\n",
    "cv.imshow('rotated_image', dst)\n",
    "cv.waitKey(0)\n",
    "cv.destroyAllWindows()"
   ]
  },
  {
   "cell_type": "code",
   "execution_count": 11,
   "id": "1fcd28b0",
   "metadata": {
    "slideshow": {
     "slide_type": "fragment"
    }
   },
   "outputs": [
    {
     "data": {
      "text/plain": [
       "(225, 225, 3)"
      ]
     },
     "execution_count": 11,
     "metadata": {},
     "output_type": "execute_result"
    }
   ],
   "source": [
    "dst.shape"
   ]
  },
  {
   "cell_type": "markdown",
   "id": "e942fb2e",
   "metadata": {
    "slideshow": {
     "slide_type": "slide"
    }
   },
   "source": [
    "#### Translation"
   ]
  },
  {
   "cell_type": "code",
   "execution_count": 18,
   "id": "ef984e41",
   "metadata": {
    "slideshow": {
     "slide_type": "fragment"
    }
   },
   "outputs": [],
   "source": [
    "rows, cols = img.shape[:2]\n",
    "\n",
    "M = np.float32([[1, 0, 100], [0, 1, 50]])\n",
    "dst = cv.warpAffine(img, M, (cols, rows))\n",
    "# The third argument of cv.warpAffine is the size of outpt image\n",
    "\n",
    "cv.namedWindow('translated_image')\n",
    "cv.imshow('translated_image', dst)\n",
    "cv.waitKey(0)\n",
    "cv.destroyAllWindows()"
   ]
  },
  {
   "cell_type": "markdown",
   "id": "d28529d7",
   "metadata": {
    "slideshow": {
     "slide_type": "slide"
    }
   },
   "source": [
    "### Exercise\n",
    "3. Rotate and translate any image."
   ]
  },
  {
   "cell_type": "markdown",
   "id": "5e01baa0",
   "metadata": {
    "slideshow": {
     "slide_type": "slide"
    }
   },
   "source": [
    "#### Scaling\n",
    "Scaling is just resizing of the image."
   ]
  },
  {
   "cell_type": "code",
   "execution_count": 19,
   "id": "6788c1ae",
   "metadata": {
    "slideshow": {
     "slide_type": "fragment"
    }
   },
   "outputs": [],
   "source": [
    "img = cv.imread('lena.jpg')\n",
    "res = cv.resize(img, None, fx = 2, fy = 2, interpolation = cv.INTER_CUBIC)\n",
    "\n",
    "# 0R\n",
    "# height, width = img.shape[:2]\n",
    "# res = cv.resize(img, (2*width, 2*height), interpolation = cv.INTER_CUBIC)\n",
    "\n",
    "cv.imshow('resize_lena', res)\n",
    "cv.waitKey(0)\n",
    "cv.destroyAllWindows()"
   ]
  },
  {
   "cell_type": "markdown",
   "id": "466eca0e",
   "metadata": {
    "slideshow": {
     "slide_type": "slide"
    }
   },
   "source": [
    "#### OpenCV affine transformation function\n",
    "In affine transformation, all parallel lines in the original image will still be parallel in the output image. To find the transformation matrix, we need 3 points from the input image and their corresponding locations in the output image. When it comes to the implementation part, similar to rotation, two OpenCV functions are needed: `cv.getAffineTransform()` to get the $2 \\times 3$ matrix, in which this matrix will be argument for `cv.warpAffine()`.\n",
    "```python\n",
    "# Calculates affine transform from 3 pairs of the corresponding points\n",
    "cv.getAffineTransform(src, dst)\n",
    "```\n",
    "1. First argument is coordinates of triangle vertices in the source image.\n",
    "2. Coordinates of the corresponding triangle vertices in the destination image.\n",
    "\n",
    "```python\n",
    "cv.warpAffine(src, M, dsize, ...)\n",
    "```\n",
    "1. First argument, src is the input image.\n",
    "2. M is the $2 \\times 3$ transformation matrix.\n",
    "3. dsize is the size of the output image. Usually, same as the input image size."
   ]
  },
  {
   "cell_type": "code",
   "execution_count": 20,
   "id": "25ff66ae",
   "metadata": {
    "slideshow": {
     "slide_type": "slide"
    }
   },
   "outputs": [],
   "source": [
    "import matplotlib.pyplot as plt"
   ]
  },
  {
   "cell_type": "code",
   "execution_count": 22,
   "id": "5e3e9174",
   "metadata": {
    "slideshow": {
     "slide_type": "fragment"
    }
   },
   "outputs": [
    {
     "data": {
      "text/plain": [
       "(213, 213, 3)"
      ]
     },
     "execution_count": 22,
     "metadata": {},
     "output_type": "execute_result"
    }
   ],
   "source": [
    "img = cv.imread('chessboard.png')\n",
    "\n",
    "# change to RGB\n",
    "img = cv.cvtColor(img, cv.COLOR_BGR2RGB)\n",
    "img.shape"
   ]
  },
  {
   "cell_type": "code",
   "execution_count": 23,
   "id": "8fe58546",
   "metadata": {
    "slideshow": {
     "slide_type": "fragment"
    }
   },
   "outputs": [
    {
     "data": {
      "image/png": "[encoded data removed]",
      "text/plain": [
       "<Figure size 432x288 with 2 Axes>"
      ]
     },
     "metadata": {
      "needs_background": "light"
     },
     "output_type": "display_data"
    }
   ],
   "source": [
    "rows, cols = img.shape[:2]\n",
    "\n",
    "pts1 = np.float32([[25, 25], [100, 25], [25, 100]])\n",
    "pts2 = np.float32([[5, 50], [100, 25], [50, 125]])\n",
    "\n",
    "for pt in pts1:\n",
    "    cv.circle(img, (int(pt[0]), int(pt[1])), 1, (0, 0, 255), -1)\n",
    "\n",
    "M = cv.getAffineTransform(pts1, pts2)\n",
    "dst = cv.warpAffine(img, M, (cols, rows))\n",
    "\n",
    "for pt in pts2:\n",
    "    cv.circle(dst, (int(pt[0]), int(pt[1])), 1, (0, 0, 255), -1)\n",
    "\n",
    "plt.subplot(121), plt.imshow(img), plt.title('Input'), plt.axis('off')\n",
    "plt.subplot(122), plt.imshow(dst), plt.title('Output'), plt.axis('off')\n",
    "plt.show()"
   ]
  },
  {
   "cell_type": "markdown",
   "id": "b95d913b",
   "metadata": {
    "slideshow": {
     "slide_type": "slide"
    }
   },
   "source": [
    "## Annotating Images using OpenCV\n",
    "Why image annotations? Below are some of the use cases:\n",
    "- Adding information to your images.\n",
    "- Drawing bounding boxes around objects for the purpose of object detection.\n",
    "\n",
    "Once you learn to annotate images, annotating video frames will seem just easy. That's because each frame in a video is represented as an image. \n",
    "\n",
    "### Draw line on image\n",
    "The associated function is `cv.line()`\n",
    "```python\n",
    "cv.line(img, pt1, pt2, color, thickness, lineType, shift)\n",
    "```\n",
    "1. First argument, img is the source image\n",
    "2. pt1 is the first point of the line segment.\n",
    "3. pt3 is the second point of the line segment.\n",
    "4. linetype is optional flags. Examples are:\n",
    "    - cv.FILLED\n",
    "    - cv.LINE_4\n",
    "    - cv.LINE_8\n",
    "    - cv.LINE_AA"
   ]
  },
  {
   "cell_type": "code",
   "execution_count": 24,
   "id": "c6d21285",
   "metadata": {
    "slideshow": {
     "slide_type": "fragment"
    }
   },
   "outputs": [],
   "source": [
    "img = cv.imread('dog.jfif')\n",
    "if img is None:\n",
    "    print('Could not read image')\n",
    "\n",
    "# Draw line on an image\n",
    "start_point = (50, 25)\n",
    "end_point = (80, 100)\n",
    "cv.line(img, start_point, end_point, (255, 255, 0), 2, cv.LINE_AA)\n",
    "\n",
    "cv.imshow('Line', img)\n",
    "cv.waitKey(0)\n",
    "cv.destroyAllWindows()"
   ]
  },
  {
   "cell_type": "markdown",
   "id": "4a6d77e5",
   "metadata": {
    "slideshow": {
     "slide_type": "slide"
    }
   },
   "source": [
    "### Draw circle\n",
    "\n",
    "The function is `cv.cirle()`.\n",
    "```python\n",
    "cv.circle(img, center, radius, color, thickness, lineType, shift)\n",
    "```\n",
    "1. First argument, img is similar to `cv.line()`, refer to source image.\n",
    "2. Center is the center coordinates of the circle."
   ]
  },
  {
   "cell_type": "code",
   "execution_count": 25,
   "id": "78b0cc35",
   "metadata": {
    "slideshow": {
     "slide_type": "fragment"
    }
   },
   "outputs": [],
   "source": [
    "img_copy = img.copy()\n",
    "center = (145, 50)\n",
    "\n",
    "cv.circle(img_copy, center, 40, (0, 0, 255), 2, cv.LINE_AA)\n",
    "cv.imshow('circle', img_copy)\n",
    "cv.waitKey(0)\n",
    "cv.destroyAllWindows()"
   ]
  },
  {
   "cell_type": "code",
   "execution_count": 26,
   "id": "c61cb674",
   "metadata": {
    "slideshow": {
     "slide_type": "fragment"
    }
   },
   "outputs": [],
   "source": [
    "# filled circle\n",
    "img = cv.imread('dog.jfif')\n",
    "img_copy = img.copy()\n",
    "\n",
    "cv.circle(img_copy, center, 40, (0, 255, 0), -1, cv.LINE_AA)\n",
    "cv.imshow('filled circle', img_copy)\n",
    "cv.waitKey(0)\n",
    "cv.destroyAllWindows()"
   ]
  },
  {
   "cell_type": "markdown",
   "id": "63143a49",
   "metadata": {
    "slideshow": {
     "slide_type": "slide"
    }
   },
   "source": [
    "### Draw rectangle\n",
    "The function is `cv.rectangle()`.\n",
    "```python\n",
    "cv.rectangle(img, pt1, pt2, color, thickness, linetype, shift)\n",
    "```\n",
    "1. First argument, img is the source image.\n",
    "2. pt1 is the vertex / corner of rectangle.\n",
    "3. pt2 is the opposite vertex / corner of rectangle. Together, pt1 and pt2 form the diagonal of the rectangle."
   ]
  },
  {
   "cell_type": "code",
   "execution_count": 27,
   "id": "cb400e00",
   "metadata": {
    "slideshow": {
     "slide_type": "fragment"
    }
   },
   "outputs": [],
   "source": [
    "img_copy = img.copy()\n",
    "pt1 = (100, 10)\n",
    "pt2 = (190, 90)\n",
    "\n",
    "cv.rectangle(img_copy, pt1, pt2, (255, 0, 0), 3, cv.LINE_AA)\n",
    "cv.imshow('rectangle', img_copy)\n",
    "cv.waitKey(0)\n",
    "cv.destroyAllWindows()"
   ]
  },
  {
   "cell_type": "markdown",
   "id": "c86ce372",
   "metadata": {
    "slideshow": {
     "slide_type": "slide"
    }
   },
   "source": [
    "### Draw ellipse\n",
    "The function is `cv.ellipse()`.\n",
    "```python\n",
    "cv.ellipse(img, center, axes, angle, startAngle, endAngle, color, ...)\n",
    "```\n",
    "1. First argument, img is the source image.\n",
    "2. center is the center coordinates of ellipse.\n",
    "3. axes is a tuple of half the axes (major & minor) lengths.\n",
    "4. angle is the rotation angle. Both axes and angle arguments will determine if the output is a *horizontal* ellipse or a *vertical* ellipse.\n",
    "5. If we want to draw full ellipse, then set `startAngle = 0` and `endAngle = 360`."
   ]
  },
  {
   "cell_type": "code",
   "execution_count": 28,
   "id": "6555fb96",
   "metadata": {
    "slideshow": {
     "slide_type": "fragment"
    }
   },
   "outputs": [],
   "source": [
    "img_copy = img.copy()\n",
    "center = (145, 50)\n",
    "axes = (50, 25)\n",
    "\n",
    "cv.ellipse(img_copy, center, axes, 0, 0, 360, (0, 255, 0), 2)\n",
    "cv.imshow('ellipse', img_copy)\n",
    "cv.waitKey(0)\n",
    "cv.destroyAllWindows()"
   ]
  },
  {
   "cell_type": "markdown",
   "id": "35630a58",
   "metadata": {
    "slideshow": {
     "slide_type": "slide"
    }
   },
   "source": [
    "### Text annotation\n",
    "The function is `cv.putText()` function.\n",
    "```python\n",
    "cv.putText(img, text, org, fontFace, fontScale, color, ...)\n",
    "```\n",
    "1. First argument, img is the source image.\n",
    "2. text is the text string to be inserted.\n",
    "3. org is the bottom left corner coordinates of the text string.\n",
    "4. fontFace is the font type. For more info, please see [this webpage](https://docs.opencv.org/4.x/d6/d6e/group__imgproc__draw.html#ga0f9314ea6e35f99bb23f29567fc16e11).\n",
    "5. fontScale is the font scale factor. "
   ]
  },
  {
   "cell_type": "code",
   "execution_count": 29,
   "id": "b985fe3f",
   "metadata": {
    "slideshow": {
     "slide_type": "fragment"
    }
   },
   "outputs": [],
   "source": [
    "img_copy = img.copy()\n",
    "\n",
    "text = 'My name is Bobby!'\n",
    "org = (15, 150)\n",
    "\n",
    "cv.putText(img_copy, text, org, 0, 0.8, (0, 255, 100), 2)\n",
    "cv.imshow('image with text', img_copy)\n",
    "cv.waitKey(0)\n",
    "cv.destroyAllWindows()"
   ]
  },
  {
   "cell_type": "markdown",
   "id": "a34e8939",
   "metadata": {
    "slideshow": {
     "slide_type": "slide"
    }
   },
   "source": [
    "## Exercise 4: Drawing functions\n",
    "Draw a bulleye image like what shown below:  \n",
    "![bulleye](image_embed/bulleye.PNG \"bulleye\")"
   ]
  },
  {
   "cell_type": "markdown",
   "id": "0c533d74",
   "metadata": {
    "slideshow": {
     "slide_type": "slide"
    }
   },
   "source": [
    "## Bitwise operations\n",
    "In this section, we will review four bitwise operations: _AND_, _OR_, _XOR_, and _NOT_. While very basic and low level, these 4 operations are indispensible, when it comes to masking. \n",
    "\n",
    "Bitwise operations function in a binary manner. A given pixel is turned off it has a value of zero and it is turned on if the pixel has a value greater than zero.\n",
    "```python\n",
    "dst = cv.bitwise_and(src1, src2[, dst[, mask]])\n",
    "```\n",
    "The first and second arguments are input array (images). Argument 'mask' is optional operation mask. `cv.bitwise_or` and `cv.bitwise_xor` method signature are similar to `cv.bitwise_and`.\n",
    "\n",
    "```python\n",
    "dst = cv.bitwise_not(src[, dst[, mask]])\n",
    "```\n",
    "The first argument is the input array, while argument 'mask' is optional operation mask. "
   ]
  },
  {
   "cell_type": "code",
   "execution_count": 31,
   "id": "f0500b8b",
   "metadata": {
    "slideshow": {
     "slide_type": "subslide"
    }
   },
   "outputs": [],
   "source": [
    "# draw a rectangle on a dark background\n",
    "rect = np.zeros((400, 400), dtype = np.uint8)\n",
    "cv.rectangle(rect, (30, 30), (370, 370), 255, -1)\n",
    "cv.imshow('rectangle', rect)\n",
    "# draw a circle on a dark background\n",
    "circle = np.zeros((400, 400), dtype = np.uint8)\n",
    "cv.circle(circle, (200, 200), 200, 255, -1)\n",
    "cv.imshow('circle', circle)\n",
    "\n",
    "cv.waitKey(0)\n",
    "cv.destroyAllWindows()"
   ]
  },
  {
   "cell_type": "code",
   "execution_count": 32,
   "id": "a6fc8b8c",
   "metadata": {
    "slideshow": {
     "slide_type": "subslide"
    }
   },
   "outputs": [],
   "source": [
    "# Perform bitwise operation: AND\n",
    "res_AND = cv.bitwise_and(rect, circle)\n",
    "cv.imshow('AND operator result', res_AND)\n",
    "cv.waitKey(0)\n",
    "cv.destroyAllWindows()"
   ]
  },
  {
   "cell_type": "code",
   "execution_count": 33,
   "id": "dca951b1",
   "metadata": {
    "slideshow": {
     "slide_type": "subslide"
    }
   },
   "outputs": [],
   "source": [
    "# Perform bitwise operation: OR\n",
    "res_OR = cv.bitwise_or(rect, circle)\n",
    "cv.imshow('OR operator result', res_OR)\n",
    "cv.waitKey(0)\n",
    "cv.destroyAllWindows()"
   ]
  },
  {
   "cell_type": "code",
   "execution_count": 34,
   "id": "961c3455",
   "metadata": {
    "slideshow": {
     "slide_type": "subslide"
    }
   },
   "outputs": [],
   "source": [
    "# Perform bitwise operation: XOR\n",
    "res_XOR = cv.bitwise_xor(rect, circle)\n",
    "cv.imshow('XOR operator result', res_XOR)\n",
    "cv.waitKey(0)\n",
    "cv.destroyAllWindows()"
   ]
  },
  {
   "cell_type": "markdown",
   "id": "7babc1a6",
   "metadata": {
    "slideshow": {
     "slide_type": "slide"
    }
   },
   "source": [
    "**Exercise**  \n",
    "5. Turn the white rectangle on dark background to black rectangle on white background."
   ]
  },
  {
   "cell_type": "markdown",
   "id": "bd571cb3",
   "metadata": {
    "slideshow": {
     "slide_type": "slide"
    }
   },
   "source": [
    "## Weekly activity"
   ]
  },
  {
   "cell_type": "markdown",
   "id": "2d04669d",
   "metadata": {
    "slideshow": {
     "slide_type": "fragment"
    }
   },
   "source": [
    "1. Convert the code chunk found under section <a href=\"#Section1\">Divide an image into smaller patches using cropping</a> into a function with the following signature:\n",
    "```python\n",
    "crop_grid(img, num_horizontal_grid, num_vertical_grid, line_color)\n",
    " # img is the source image\n",
    " # num_horizontal_grid and num_vertical_grid are the number of patches along x and y axes.\n",
    " # line_color is the color of the grid line.\n",
    " # The output of the function should be image with grids\n",
    "```\n",
    "2. Display image sequences of smooth transition of two images with different values of $\\alpha$. Refer to code in section \"Image blending\". Use _\"lena.jfif\"_ and *\"coins.jfif\"* as the base images. \n",
    "3. Rotate image by 45 degrees without cropping the sides of the image. (Hint: There are 2 strategies to tackle these problems). Use _\"lena.jfif\"_ as the input image.\n",
    "    - Use external libraries `imutils`.  \n",
    "    - Modify the transformation matrix.\n",
    "4. Use the images with titles: _\"flower.jfif\"_ and *\"native-bee.png\"*. I want to put flower above an image. If I add two images, it will change color. If I blend it, I get a transparent effect. But I want it to be opaque. If it was a rectangular region, we could use the ROI as we did in the previous section. But flower is not a rectangular region. This is where bitwise operations, like AND, OR, NOT and XOR really come in handy. The associated functions are `cv.bitwise_and()`, `cv.bitwise_or()` and `cv.bitwise_not()`. You need to use `cv.threshold` function to segment the flower. Please refer to [online documentation](https://docs.opencv.org/4.x/d2/de8/group__core__array.html#ga60b4d04b251ba5eb1392c34425497e14) for more info. The result should resemble the following:  \n",
    "![bee and flowers](image_embed/activity3.PNG \"bee_flower\")"
   ]
  },
  {
   "cell_type": "code",
   "execution_count": null,
   "id": "3ce90587",
   "metadata": {},
   "outputs": [],
   "source": []
  }
 ],
 "metadata": {
  "kernelspec": {
   "display_name": "Python 3 (ipykernel)",
   "language": "python",
   "name": "python3"
  },
  "language_info": {
   "codemirror_mode": {
    "name": "ipython",
    "version": 3
   },
   "file_extension": ".py",
   "mimetype": "text/x-python",
   "name": "python",
   "nbconvert_exporter": "python",
   "pygments_lexer": "ipython3",
   "version": "3.9.12"
  }
 },
 "nbformat": 4,
 "nbformat_minor": 5
}
